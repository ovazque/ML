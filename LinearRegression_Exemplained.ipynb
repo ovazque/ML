{
  "nbformat": 4,
  "nbformat_minor": 0,
  "metadata": {
    "colab": {
      "provenance": [],
      "authorship_tag": "ABX9TyNaJIJ1GHc8eiPAyiZyMVvC",
      "include_colab_link": true
    },
    "kernelspec": {
      "name": "python3",
      "display_name": "Python 3"
    },
    "language_info": {
      "name": "python"
    }
  },
  "cells": [
    {
      "cell_type": "markdown",
      "metadata": {
        "id": "view-in-github",
        "colab_type": "text"
      },
      "source": [
        "<a href=\"https://colab.research.google.com/github/ovazque/ML/blob/main/LinearRegression_Exemplained.ipynb\" target=\"_parent\"><img src=\"https://colab.research.google.com/assets/colab-badge.svg\" alt=\"Open In Colab\"/></a>"
      ]
    },
    {
      "cell_type": "markdown",
      "source": [
        "#Linear regression\n",
        "The simplest linear model for regression is one that involves a linear combination of the input variables: <br>\n",
        "\n",
        "<center>\n",
        "$y(\\mathbf{x,w}) = w_{0}+w_{1}x_{1}+...+w_{D}x_{D}$ <br>\n",
        "</center>\n",
        "\n",
        "where $\\mathbf{x}=(x_{1},...,x_{D})^{\\mathrm{T}}$. This is often simply known as *linear regression*. The key property of this model is that it is a linear function of the parameters $w_{0},...,w_{D}$. It is also, however, a linear function of the input variables $x_{i}$. <br>\n",
        "\n",
        "The linearity on the input variables imposes significant limitations on the model. Therefore, it is convenient to extend the class of models by considering linear combinations of fixed nonlinear functions of the input variables, of the form:\n",
        "\n",
        "<center>\n",
        "$y(\\mathbf{x,w}) = w_{0} + \\sum_{j=1}^{M-1} w_{j}𝜙_{j}(\\mathbf{x})$  <br>\n",
        "</center>\n",
        "\n",
        "where $𝜙_{j}(\\mathbf{x})$ are nonlinear functions of the input variables known as *basis functions*. By denoting the maximum value of the index $j$ by $M-1$, the total number of parameters in this model will be $M$. <br>\n",
        "\n",
        "The parameter $w_{0}$ is knows as the *intercept term*. It is often convenient to define and additional dummy  \"basis function\" $𝜙_{0}(\\mathbf{x})=1$ so that <br>\n",
        "\n",
        "<center>\n",
        "$y(\\mathbf{x,w}) = \\sum_{j=0}^{M-1} w_{j}𝜙_{j}(\\mathbf{x}) = \\mathbf{w}^{\\mathrm{T}}𝝓(\\mathbf{x}) $  <br>\n",
        "</center>\n",
        "\n",
        "where $\\mathbf{w}=(w_{0},...,w_{M-1})^{\\mathrm{T}}$ and $𝝓=(𝜙_{0},...,𝜙_{M-1})^{\\mathrm{T}}$. <br>\n",
        "\n",
        "It is assumed that the target variable $t$ is given by a deterministic function $y(\\mathbf{x,w})$ with additive Gaussian noise: $t=y(\\mathbf{x,w})+𝜖$, where $𝜖$ is a zero mean Gaussian random variable with precission $\\beta=1/𝜎^{2}$: <br>\n",
        "\n",
        "<center>\n",
        "$p(t|\\mathbf{x,w},𝛽) = \\mathcal{N}(t|y(\\mathbf{x,w}),𝛽^{-1})$  <br>\n",
        "</center>\n",
        "\n",
        "Now let's consider a data set of inputs $\\mathbf{X}=(\\mathbf{x}_{1},...,\\mathbf{x}_{N})$ with corresponding target values $t_{1},...,t_{N}$. Here $\\mathbf{X}$ is a vector of $N$ observations and each observation $\\mathbf{x}_{n}$ is a D-dimensional vector vector: $\\mathbf{x}_{n} = (x_{1},,.,x_{D})$ being $x_{i}$ with $i=1,..,D$ the input variables. Similarly $\\mathbf{t}=(t_{1},...,t_{N})$. <br>\n",
        "\n",
        "Assuming that these data points are drawn independently form the Gaussian distribution, the likelihood function takes the form: <br>\n",
        "\n",
        "<center>\n",
        "$p(\\mathbf{t}|\\mathbf{x,w},𝛽) = \\prod_{n=1}^{N} \\mathcal{N}(t_{n}|\\mathbf{w}^{\\mathrm{T}}𝝓(\\mathbf{x}_{n}),𝛽^{-1})$\n",
        "</center>\n",
        "\n",
        "Since one is not seeking to model the distribution of the input variables, $\\mathbf{x}$ will always appear in the set of conditioning variables, and so from now on we will drop the explicit $\\mathbf{x}$ from expressions such as $p(\\mathbf{t}|\\mathbf{x,w},𝛽)$ in order to keep the notation uncluttered.  \n",
        "\n",
        "Using the univariate Gaussian distribution: $\\mathcal{N}(t_{n}|\\mathbf{w}^{\\mathrm{T}}𝝓(\\mathbf{x}_{n}),𝛽^{-1}) = \\big(\\frac{𝛽}{2π}\\big)^{1/2} exp\\big( -\\frac{𝛽(t-\\mathbf{w}^{\\mathrm{T}}𝝓(\\mathbf{x}_{n})^{2}}{2} \\big)$, the logarithm of the Likelihood function takes the form: <br>\n",
        "\n",
        "<center>\n",
        "\\begin{align}\n",
        "\\mathrm{ln}p(\\mathbf{t}|\\mathbf{w},𝛽) &= \\mathrm{ln} \\prod_{n=1}^{N} \\mathcal{N}(t_{n}|\\mathbf{w}^{\\mathrm{T}}𝝓(\\mathbf{x}_{n}),𝛽^{-1}) \\\\\n",
        "& = \\frac{N}{2}\\mathrm{ln}𝛽 - \\frac{N}{2}\\mathrm{ln}(2π) - 𝛽E_{D}(\\mathbf{w})\n",
        "\\end{align}\n",
        "</center>\n",
        "\n",
        "where the sum-of-squares error function is given by: <br>\n",
        "\n",
        "<center>\n",
        "$ E_{D}(\\mathbf{w}) = \\frac{1}{2}\\sum_{n=1}^{N}(t_{n}-\\mathbf{w}^{\\mathrm{T}}𝝓(\\mathbf{x}_{n}))^{2}$\n",
        "</center>\n",
        "\n",
        "Having written down the likelihood function, one can use maximum likelihood to determine $\\mathbf{w}$ and $𝛽$. Consider first the maximization with respect to $\\mathbf{w}$. Maximization of the likelihood function under a conditional gaussian distribution for a linear model is equivalent to minimizing a sum-of-squares error function given by $ E_{D}(\\mathbf{w})$.  The gradient of the log likelihood function takes the form:\n",
        "\n",
        "<center>\n",
        "$\\nabla \\mathrm{ln} p(\\mathbf{t}|\\mathbf{w},𝛽) = 𝛽\\sum_{n=1}^{N}(t_{n} - \\mathbf{w}^{\\mathrm{T}}𝝓(\\mathbf{x}_{n}))𝝓(\\mathbf{x}_{n})^{\\mathrm{T}}$\n",
        "</center>\n",
        "\n",
        "Setting this gradient to zero and solving for $\\mathbf{w}$ one obtains:\n",
        "\n",
        "<center>\n",
        "$\\mathbf{w}_{\\mathrm{ML}} = (𝞍^{\\mathrm{T}}𝞍)^{-1}𝞍^{\\mathrm{T}}\\mathbf{t}$\n",
        "</center>\n",
        "\n",
        "which are known the *normal equations* for the least squares problem. Here $𝞍$ is an $N\\times M$ matrix, called the *design matrix*, whose elements are given by $𝞍_{n,j}=𝜙_{j}(\\mathbf{x}_{n})$.\n",
        "\n",
        "\\begin{equation}\n",
        "𝞍 = \\begin{bmatrix} 𝜙_{0}(\\mathbf{x}_{1}) & 𝜙_{1}(\\mathbf{x}_{1}) & \\dots  & 𝜙_{M-1}(\\mathbf{x}_{1}) \\\\ 𝜙_{0}(\\mathbf{x}_{2}) & 𝜙_{1}(\\mathbf{x}_{2}) & \\dots  & 𝜙_{M-1}(\\mathbf{x}_{2}) \\\\ \\vdots & \\vdots & \\ddots & \\vdots \\\\ 𝜙_{0}(\\mathbf{x}_{N}) & 𝜙_{1}(\\mathbf{x}_{N}) & \\dots & 𝜙_{M-1}(\\mathbf{x}_{N})\n",
        "\\end{bmatrix}\n",
        "\\end{equation}\n",
        "\n",
        "Each column represents a basis function $𝜙_{j}(\\mathbf{x}_{n})$ ($j=0,...,M-1$) evaluated at the $\\mathbf{x}_{n}$ $(n=1,...,N)$ observation. In the general case $\\mathbf{x}_{n}$ is a $D$-dimensional vector and hence $𝜙_{j}(\\mathbf{x}_{n})$ a multivariate function. In particular $𝜙_{0}(\\mathbf{x}_{n}) = 1$."
      ],
      "metadata": {
        "id": "rSEttYwa2Sxm"
      }
    },
    {
      "cell_type": "markdown",
      "source": [
        "# Application\n",
        "\n",
        "Use the Linear regression model to predict the target variable $t$, which depends only on a single attribute variable $x$. This means that $\\mathbf{X} = (\\mathbf{x}_{1},..,\\mathbf{x}_{N})^{\\mathrm{T}}$ where $N$ is the total number of observations can be written as $\\mathbf{X} = (x_{1},..,x_{N})^{\\mathrm{T}}$ . Therefore, the functional form of the regression function is of the form: $y(x)= w_{0} + w_{1}x$."
      ],
      "metadata": {
        "id": "Q3cIrQEnmmcl"
      }
    },
    {
      "cell_type": "code",
      "source": [
        "import numpy as np\n",
        "\n",
        "# X is a numpy array of shape (N,1) of generated pseudo random numbers using a uniform distribution between [0,1).\n",
        "# Here  X represents the N observations of a single attribute: x\n",
        "N=50\n",
        "X = 2 * np.random.rand(N,1)\n",
        "\n",
        "# y depends linearly on X. Each entry includes a random noise\n",
        "# given by a univariate normal (Gaussian) distribution\n",
        "# with mean = 0 and variance = 1.\n",
        "y = 4 + 3 * X + np.random.randn(N,1)"
      ],
      "metadata": {
        "id": "dRfJNU9zmtwa"
      },
      "execution_count": 64,
      "outputs": []
    },
    {
      "cell_type": "code",
      "source": [
        "from matplotlib import pyplot as plt\n",
        "plt.figure(figsize=(5,3.5))\n",
        "plt.title(\"Randomly generated linear dataset\")\n",
        "plt.xlabel(\"x (attibute)\")\n",
        "plt.ylabel(\"y (target variable)\")\n",
        "plt.plot(X,y,\"b.\")\n",
        "plt.show()"
      ],
      "metadata": {
        "colab": {
          "base_uri": "https://localhost:8080/",
          "height": 372
        },
        "id": "xR0hrP-eoOAc",
        "outputId": "e9eb18cc-0e6f-4312-982c-5f05dade414d"
      },
      "execution_count": 65,
      "outputs": [
        {
          "output_type": "display_data",
          "data": {
            "text/plain": [
              "<Figure size 500x350 with 1 Axes>"
            ],
            "image/png": "[encoded data removed]"
          },
          "metadata": {}
        }
      ]
    },
    {
      "cell_type": "markdown",
      "source": [
        "First one has to calculate the *design matrix*, $𝞍_{nj}=𝜙_{j}(x_{n})$. For this particular example where $N=100$ observations and the model has only two parameters: $w_{0}$ and $w_{1}$, the design matrix has a dimension equal to $100\\times2$. The first column of $𝞍_{nj}$ is equal to $1$ for all the $n$ values: $𝞍_{n1}=1$. The second column $𝞍_{n2}=𝜙_{2}(x_{n}) = x_{n}$, where $x_{n}$ represents each of the one hundred observations."
      ],
      "metadata": {
        "id": "E9ObZS8tdgcn"
      }
    },
    {
      "cell_type": "code",
      "source": [
        "# X_b is a matrix of shape (N,2).\n",
        "X_b = np.c_[np.ones((N,1)), X]"
      ],
      "metadata": {
        "id": "gnBhai7RoPyJ"
      },
      "execution_count": 66,
      "outputs": []
    },
    {
      "cell_type": "markdown",
      "source": [
        "Let's compute $\\mathbf{w}_{\\mathrm{ML}}$ using the normal equations $(\\mathbf{w}_{\\mathrm{ML}} = (𝞍^{\\mathrm{T}}𝞍)^{-1}𝞍^{\\mathrm{T}}\\mathbf{t})$:"
      ],
      "metadata": {
        "id": "UYsBsKg4ub_Q"
      }
    },
    {
      "cell_type": "code",
      "source": [
        "w_ML = np.linalg.inv(X_b.T.dot(X_b)).dot(X_b.T).dot(y)"
      ],
      "metadata": {
        "id": "5RVDiBXywkVC"
      },
      "execution_count": 67,
      "outputs": []
    },
    {
      "cell_type": "code",
      "source": [
        "# The maximum likelihood estimate for the parameters w_{0} and w_{1}\n",
        "w_ML"
      ],
      "metadata": {
        "colab": {
          "base_uri": "https://localhost:8080/"
        },
        "id": "xyj409Dcw9AQ",
        "outputId": "e37674bf-97f5-479e-be63-c733115e0e5b"
      },
      "execution_count": 68,
      "outputs": [
        {
          "output_type": "execute_result",
          "data": {
            "text/plain": [
              "array([[3.89352724],\n",
              "       [3.08224681]])"
            ]
          },
          "metadata": {},
          "execution_count": 68
        }
      ]
    },
    {
      "cell_type": "markdown",
      "source": [
        "The maximum likelihood estimate yields $w_{0}= 3.762$ and $w_{1}=3.175$ instead of $w_{0}= 4$ and $w_{1}=3$. This is because the Gaussian noise made it impossible to recover the exact parameters of the original function."
      ],
      "metadata": {
        "id": "ngBtvTnXiR0o"
      }
    },
    {
      "cell_type": "markdown",
      "source": [
        "Let's make some predictions using $x=0,0.1,0.8,1,1.3,1.6,1.9,2$:"
      ],
      "metadata": {
        "id": "TkqB00NDqzIi"
      }
    },
    {
      "cell_type": "code",
      "source": [
        "X_new = np.array([[0],[0.1],[0.8],[1],[1.3],[1.6],[1.9],[2]])"
      ],
      "metadata": {
        "id": "S0ZHnCyhixDA"
      },
      "execution_count": 69,
      "outputs": []
    },
    {
      "cell_type": "code",
      "source": [
        "X_new_b = np.c_[np.ones((8,1)), X_new]"
      ],
      "metadata": {
        "id": "s6_hkPPOja-j"
      },
      "execution_count": 70,
      "outputs": []
    },
    {
      "cell_type": "code",
      "source": [
        "X_new_b"
      ],
      "metadata": {
        "colab": {
          "base_uri": "https://localhost:8080/"
        },
        "id": "yOYyPoKjqAr-",
        "outputId": "d6c010af-8e20-4aa1-aeb5-ae6e7a598edd"
      },
      "execution_count": 71,
      "outputs": [
        {
          "output_type": "execute_result",
          "data": {
            "text/plain": [
              "array([[1. , 0. ],\n",
              "       [1. , 0.1],\n",
              "       [1. , 0.8],\n",
              "       [1. , 1. ],\n",
              "       [1. , 1.3],\n",
              "       [1. , 1.6],\n",
              "       [1. , 1.9],\n",
              "       [1. , 2. ]])"
            ]
          },
          "metadata": {},
          "execution_count": 71
        }
      ]
    },
    {
      "cell_type": "markdown",
      "source": [
        "$\\mathbf{y}_{\\mathrm{predict}}(x)= w_{0}+w_{1}x = \\mathbf{x} \\cdot \\mathbf{w}_{\\mathrm{ML}}$. Here $\\mathbf{x}$ is the ```X_new_b``` matrix of shape (8,2) and $\\mathbf{w}_{\\mathrm{ML}} = (3.762,3.175)^{\\mathrm{T}}$."
      ],
      "metadata": {
        "id": "0wouDD5dr61X"
      }
    },
    {
      "cell_type": "code",
      "source": [
        "y_predict = X_new_b.dot(w_ML)"
      ],
      "metadata": {
        "id": "DK505BkzmpC5"
      },
      "execution_count": 72,
      "outputs": []
    },
    {
      "cell_type": "code",
      "source": [
        "y_predict"
      ],
      "metadata": {
        "colab": {
          "base_uri": "https://localhost:8080/"
        },
        "id": "OQJNoEiPm-ze",
        "outputId": "caee9775-2774-477c-9d34-19507ef40dc8"
      },
      "execution_count": 73,
      "outputs": [
        {
          "output_type": "execute_result",
          "data": {
            "text/plain": [
              "array([[ 3.89352724],\n",
              "       [ 4.20175192],\n",
              "       [ 6.35932469],\n",
              "       [ 6.97577406],\n",
              "       [ 7.9004481 ],\n",
              "       [ 8.82512214],\n",
              "       [ 9.74979619],\n",
              "       [10.05802087]])"
            ]
          },
          "metadata": {},
          "execution_count": 73
        }
      ]
    },
    {
      "cell_type": "code",
      "source": [
        "w_true = [[4],[3]]\n",
        "y_true = X_new_b.dot(w_true)"
      ],
      "metadata": {
        "id": "dLPVrFRgv59V"
      },
      "execution_count": 74,
      "outputs": []
    },
    {
      "cell_type": "code",
      "source": [
        "plt.figure(figsize=(5,3.5))\n",
        "plt.title(\"Linear model predictions\")\n",
        "plt.xlabel(\"x (attibute)\")\n",
        "plt.ylabel(\"y (target variable)\")\n",
        "plt.plot(X, y, \"b.\")\n",
        "plt.plot(X_new, y_predict, marker=\"s\",label='Predictions', color=\"green\")\n",
        "plt.plot(X_new, y_true, marker=\"o\",label='True targets', color=\"red\")\n",
        "plt.axis([0,2,0,15])\n",
        "plt.legend()\n",
        "plt.show()"
      ],
      "metadata": {
        "colab": {
          "base_uri": "https://localhost:8080/",
          "height": 372
        },
        "id": "ovM8C-3wm_10",
        "outputId": "637e9364-1d0e-410b-b647-e772905190a7"
      },
      "execution_count": 75,
      "outputs": [
        {
          "output_type": "display_data",
          "data": {
            "text/plain": [
              "<Figure size 500x350 with 1 Axes>"
            ],
            "image/png": "[encoded data removed]"
          },
          "metadata": {}
        }
      ]
    },
    {
      "cell_type": "markdown",
      "source": [
        "# Linear regression unsing Scikit-Learn"
      ],
      "metadata": {
        "id": "qjFXvAqtJ2Ck"
      }
    },
    {
      "cell_type": "code",
      "source": [
        "from sklearn.linear_model import LinearRegression\n",
        "lin_reg = LinearRegression()\n",
        "lin_reg.fit(X,y)"
      ],
      "metadata": {
        "colab": {
          "base_uri": "https://localhost:8080/",
          "height": 75
        },
        "id": "aoeTxFaCo4eW",
        "outputId": "aec436c8-d6f5-4853-ea3f-42c1c56b7744"
      },
      "execution_count": 76,
      "outputs": [
        {
          "output_type": "execute_result",
          "data": {
            "text/plain": [
              "LinearRegression()"
            ],
            "text/html": [
              "<style>#sk-container-id-1 {color: black;background-color: white;}#sk-container-id-1 pre{padding: 0;}#sk-container-id-1 div.sk-toggleable {background-color: white;}#sk-container-id-1 label.sk-toggleable__label {cursor: pointer;display: block;width: 100%;margin-bottom: 0;padding: 0.3em;box-sizing: border-box;text-align: center;}#sk-container-id-1 label.sk-toggleable__label-arrow:before {content: \"▸\";float: left;margin-right: 0.25em;color: #696969;}#sk-container-id-1 label.sk-toggleable__label-arrow:hover:before {color: black;}#sk-container-id-1 div.sk-estimator:hover label.sk-toggleable__label-arrow:before {color: black;}#sk-container-id-1 div.sk-toggleable__content {max-height: 0;max-width: 0;overflow: hidden;text-align: left;background-color: #f0f8ff;}#sk-container-id-1 div.sk-toggleable__content pre {margin: 0.2em;color: black;border-radius: 0.25em;background-color: #f0f8ff;}#sk-container-id-1 input.sk-toggleable__control:checked~div.sk-toggleable__content {max-height: 200px;max-width: 100%;overflow: auto;}#sk-container-id-1 input.sk-toggleable__control:checked~label.sk-toggleable__label-arrow:before {content: \"▾\";}#sk-container-id-1 div.sk-estimator input.sk-toggleable__control:checked~label.sk-toggleable__label {background-color: #d4ebff;}#sk-container-id-1 div.sk-label input.sk-toggleable__control:checked~label.sk-toggleable__label {background-color: #d4ebff;}#sk-container-id-1 input.sk-hidden--visually {border: 0;clip: rect(1px 1px 1px 1px);clip: rect(1px, 1px, 1px, 1px);height: 1px;margin: -1px;overflow: hidden;padding: 0;position: absolute;width: 1px;}#sk-container-id-1 div.sk-estimator {font-family: monospace;background-color: #f0f8ff;border: 1px dotted black;border-radius: 0.25em;box-sizing: border-box;margin-bottom: 0.5em;}#sk-container-id-1 div.sk-estimator:hover {background-color: #d4ebff;}#sk-container-id-1 div.sk-parallel-item::after {content: \"\";width: 100%;border-bottom: 1px solid gray;flex-grow: 1;}#sk-container-id-1 div.sk-label:hover label.sk-toggleable__label {background-color: #d4ebff;}#sk-container-id-1 div.sk-serial::before {content: \"\";position: absolute;border-left: 1px solid gray;box-sizing: border-box;top: 0;bottom: 0;left: 50%;z-index: 0;}#sk-container-id-1 div.sk-serial {display: flex;flex-direction: column;align-items: center;background-color: white;padding-right: 0.2em;padding-left: 0.2em;position: relative;}#sk-container-id-1 div.sk-item {position: relative;z-index: 1;}#sk-container-id-1 div.sk-parallel {display: flex;align-items: stretch;justify-content: center;background-color: white;position: relative;}#sk-container-id-1 div.sk-item::before, #sk-container-id-1 div.sk-parallel-item::before {content: \"\";position: absolute;border-left: 1px solid gray;box-sizing: border-box;top: 0;bottom: 0;left: 50%;z-index: -1;}#sk-container-id-1 div.sk-parallel-item {display: flex;flex-direction: column;z-index: 1;position: relative;background-color: white;}#sk-container-id-1 div.sk-parallel-item:first-child::after {align-self: flex-end;width: 50%;}#sk-container-id-1 div.sk-parallel-item:last-child::after {align-self: flex-start;width: 50%;}#sk-container-id-1 div.sk-parallel-item:only-child::after {width: 0;}#sk-container-id-1 div.sk-dashed-wrapped {border: 1px dashed gray;margin: 0 0.4em 0.5em 0.4em;box-sizing: border-box;padding-bottom: 0.4em;background-color: white;}#sk-container-id-1 div.sk-label label {font-family: monospace;font-weight: bold;display: inline-block;line-height: 1.2em;}#sk-container-id-1 div.sk-label-container {text-align: center;}#sk-container-id-1 div.sk-container {/* jupyter's `normalize.less` sets `[hidden] { display: none; }` but bootstrap.min.css set `[hidden] { display: none !important; }` so we also need the `!important` here to be able to override the default hidden behavior on the sphinx rendered scikit-learn.org. See: https://github.com/scikit-learn/scikit-learn/issues/21755 */display: inline-block !important;position: relative;}#sk-container-id-1 div.sk-text-repr-fallback {display: none;}</style><div id=\"sk-container-id-1\" class=\"sk-top-container\"><div class=\"sk-text-repr-fallback\"><pre>LinearRegression()</pre><b>In a Jupyter environment, please rerun this cell to show the HTML representation or trust the notebook. <br />On GitHub, the HTML representation is unable to render, please try loading this page with nbviewer.org.</b></div><div class=\"sk-container\" hidden><div class=\"sk-item\"><div class=\"sk-estimator sk-toggleable\"><input class=\"sk-toggleable__control sk-hidden--visually\" id=\"sk-estimator-id-1\" type=\"checkbox\" checked><label for=\"sk-estimator-id-1\" class=\"sk-toggleable__label sk-toggleable__label-arrow\">LinearRegression</label><div class=\"sk-toggleable__content\"><pre>LinearRegression()</pre></div></div></div></div></div>"
            ]
          },
          "metadata": {},
          "execution_count": 76
        }
      ]
    },
    {
      "cell_type": "markdown",
      "source": [
        "As expected, one gets the same values for $w_{0}$ and $w_{1}$ as those calculated from the normal equations."
      ],
      "metadata": {
        "id": "rdYO9OpyLxN6"
      }
    },
    {
      "cell_type": "code",
      "source": [
        "# Get the intercept w_{0} and the w_{1} coefficient\n",
        "print(\"Intercept: \", lin_reg.intercept_)\n",
        "print(\"Coefficient: \", lin_reg.coef_)"
      ],
      "metadata": {
        "colab": {
          "base_uri": "https://localhost:8080/"
        },
        "id": "xJK9GMJ2KTb0",
        "outputId": "c0697549-f8fe-4203-fcfa-36c40a433f66"
      },
      "execution_count": 77,
      "outputs": [
        {
          "output_type": "stream",
          "name": "stdout",
          "text": [
            "Intercept:  [3.89352724]\n",
            "Coefficient:  [[3.08224681]]\n"
          ]
        }
      ]
    },
    {
      "cell_type": "code",
      "source": [
        "lin_reg.predict(X_new)"
      ],
      "metadata": {
        "colab": {
          "base_uri": "https://localhost:8080/"
        },
        "id": "iEGppPmTKoDJ",
        "outputId": "402acdd0-838b-4f6a-9b9b-6db77e273a49"
      },
      "execution_count": 79,
      "outputs": [
        {
          "output_type": "execute_result",
          "data": {
            "text/plain": [
              "array([[ 3.89352724],\n",
              "       [ 4.20175192],\n",
              "       [ 6.35932469],\n",
              "       [ 6.97577406],\n",
              "       [ 7.9004481 ],\n",
              "       [ 8.82512214],\n",
              "       [ 9.74979619],\n",
              "       [10.05802087]])"
            ]
          },
          "metadata": {},
          "execution_count": 79
        }
      ]
    },
    {
      "cell_type": "code",
      "source": [
        "y_predict"
      ],
      "metadata": {
        "colab": {
          "base_uri": "https://localhost:8080/"
        },
        "id": "s_t0TijTKuqI",
        "outputId": "ef094559-93ab-4b9d-e9cb-c42d5eb0ac29"
      },
      "execution_count": 80,
      "outputs": [
        {
          "output_type": "execute_result",
          "data": {
            "text/plain": [
              "array([[ 3.89352724],\n",
              "       [ 4.20175192],\n",
              "       [ 6.35932469],\n",
              "       [ 6.97577406],\n",
              "       [ 7.9004481 ],\n",
              "       [ 8.82512214],\n",
              "       [ 9.74979619],\n",
              "       [10.05802087]])"
            ]
          },
          "metadata": {},
          "execution_count": 80
        }
      ]
    },
    {
      "cell_type": "code",
      "source": [],
      "metadata": {
        "id": "gUFBnfb-LBLo"
      },
      "execution_count": null,
      "outputs": []
    }
  ]
}